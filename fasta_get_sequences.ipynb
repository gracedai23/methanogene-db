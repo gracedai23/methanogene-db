{
 "cells": [
  {
   "cell_type": "markdown",
   "id": "8270eb45",
   "metadata": {},
   "source": [
    "A Python script for retrieving given gene sequences. The output is a fasta file (name=gene name), with headers that denote the species name start and end base pair, and the accession number of the species. "
   ]
  },
  {
   "cell_type": "markdown",
   "id": "d9aa0ed9",
   "metadata": {},
   "source": [
    "How it works:\n",
    "A. Create a dataframe of metadata regarding the genes \n",
    "1. iterate through all gff files and find the start and stop base pair number of the desired gene \n",
    "2. input start and stop in different columns in a dataframe, on the corresponding row (with species name, strain, accession number) \n",
    "\n",
    "B. Gather the sequences and input into dataframe\n",
    "1. unzip all fasta files in the directory\n",
    "2. for each fasta file, take the string using the start and stop index (dont include header)\n",
    "3. input that string into corresponding row of dataframe, using the accession number as a key  \n",
    "\n",
    "C. Output dataframe into a formatted fasta file \n",
    "1. create a header based on row in dataframe \n",
    "2. append the gene sequence \n",
    "3. create new line for new row in df"
   ]
  },
  {
   "cell_type": "code",
   "execution_count": 1,
   "id": "a84427e7",
   "metadata": {},
   "outputs": [
    {
     "name": "stdout",
     "output_type": "stream",
     "text": [
      "/Users/gracedai/Documents/MethanogeneDB\n"
     ]
    }
   ],
   "source": [
    "#Check that we are in the correct working directory\n",
    "import os \n",
    "print(os.getcwd())\n",
    "import sys"
   ]
  },
  {
   "cell_type": "code",
   "execution_count": 3,
   "id": "2730970b",
   "metadata": {},
   "outputs": [
    {
     "name": "stdout",
     "output_type": "stream",
     "text": [
      "Collecting sh\n",
      "  Downloading sh-2.0.7-py3-none-any.whl (38 kB)\n",
      "Installing collected packages: sh\n",
      "Successfully installed sh-2.0.7\n",
      "\n",
      "\u001b[1m[\u001b[0m\u001b[34;49mnotice\u001b[0m\u001b[1;39;49m]\u001b[0m\u001b[39;49m A new release of pip is available: \u001b[0m\u001b[31;49m23.1.2\u001b[0m\u001b[39;49m -> \u001b[0m\u001b[32;49m24.2\u001b[0m\n",
      "\u001b[1m[\u001b[0m\u001b[34;49mnotice\u001b[0m\u001b[1;39;49m]\u001b[0m\u001b[39;49m To update, run: \u001b[0m\u001b[32;49mpython3.10 -m pip install --upgrade pip\u001b[0m\n",
      "Note: you may need to restart the kernel to use updated packages.\n"
     ]
    }
   ],
   "source": [
    "pip install sh"
   ]
  },
  {
   "cell_type": "code",
   "execution_count": 3,
   "id": "1032c329",
   "metadata": {},
   "outputs": [],
   "source": [
    "os.chdir(\"/Users/gracedai/Documents/MethanogeneDB/prokka_out\")"
   ]
  },
  {
   "cell_type": "code",
   "execution_count": 24,
   "id": "f642bd3f",
   "metadata": {},
   "outputs": [
    {
     "name": "stdout",
     "output_type": "stream",
     "text": [
      "['/Users/gracedai/Documents/MethanogeneDB/GCA_000970225.1/GCF_000970225.1_ASM97022v1_genomic.gff', '/Users/gracedai/Documents/MethanogeneDB/GCA_000092305.1/GCF_000092305.1_ASM9230v1_genomic.gff', '/Users/gracedai/Documents/MethanogeneDB/GCA_000970165.1/GCF_000970165.1_ASM97016v1_genomic.gff', '/Users/gracedai/Documents/MethanogeneDB/GCA_024170265.1/GCF_024170265.1_ASM2417026v1_genomic.gff', '/Users/gracedai/Documents/MethanogeneDB/GCA_002502925.1/GCA_002502925.1.gff', '/Users/gracedai/Documents/MethanogeneDB/GCA_000091665.1/GCF_000091665.1_ASM9166v1_genomic.gff', '/Users/gracedai/Documents/MethanogeneDB/GCA_020885915.1/GCF_020885915.1_ASM2088591v1_genomic.gff', '/Users/gracedai/Documents/MethanogeneDB/GCA_017535165.1/GCA_017535165.1_ASM1753516v1_genomic.gff', '/Users/gracedai/Documents/MethanogeneDB/GCA_000166095.1/GCF_000166095.1_ASM16609v1_genomic.gff', '/Users/gracedai/Documents/MethanogeneDB/GCA_017412935.1/GCA_017412935.1_ASM1741293v1_genomic.gff', '/Users/gracedai/Documents/MethanogeneDB/GCA_002508885.1/GCA_002508885.1.gff', '/Users/gracedai/Documents/MethanogeneDB/GCA_029633965.1/GCF_029633965.1_ASM2963396v1_genomic.gff', '/Users/gracedai/Documents/MethanogeneDB/GCA_900114585.1/GCF_900114585.1_IMG-taxon_2593339150_annotated_assembly_genomic.gff', '/Users/gracedai/Documents/MethanogeneDB/GCA_000744315.1/GCF_000744315.1_ASM74431v1_genomic.gff', '/Users/gracedai/Documents/MethanogeneDB/GCA_028743435.1/GCF_028743435.1_ASM2874343v1_genomic.gff', '/Users/gracedai/Documents/MethanogeneDB/GCA_001477655.1/GCF_001477655.1_ASM147765v1_genomic.gff', '/Users/gracedai/Documents/MethanogeneDB/GCA_002356395.1/GCA_002356395.1_ASM235639v1_genomic.gff', '/Users/gracedai/Documents/MethanogeneDB/GCA_030168575.1/GCA_030168575.1_ASM3016857v1_genomic.gff', '/Users/gracedai/Documents/MethanogeneDB/GCA_000970325.1/GCF_000970325.1_ASM97032v1_genomic.gff', '/Users/gracedai/Documents/MethanogeneDB/GCA_002502965.1/GCA_002502965.1.gff', '/Users/gracedai/Documents/MethanogeneDB/GCA_000970265.1/GCF_000970265.1_ASM97026v1_genomic.gff', '/Users/gracedai/Documents/MethanogeneDB/GCA_000025525.1/GCF_000025525.1_ASM2552v1_genomic.gff', '/Users/gracedai/Documents/MethanogeneDB/GCA_001729965.1/GCF_001729965.1_ASM172996v1_genomic.gff', '/Users/gracedai/Documents/MethanogeneDB/GCA_900215215.1/GCF_900215215.1_IMG-taxon_2703719067_annotated_assembly_genomic.gff', '/Users/gracedai/Documents/MethanogeneDB/GCA_902762095.1/GCA_902762095_genomic.gff', '/Users/gracedai/Documents/MethanogeneDB/GCA_000746075.1/GCF_000746075.1_ASM74607v1_genomic.gff', '/Users/gracedai/Documents/MethanogeneDB/GCA_000196655.1/GCF_000196655.1_ASM19665v1_genomic.gff', '/Users/gracedai/Documents/MethanogeneDB/GCA_000013725.1/GCF_000013725.1_ASM1372v1_genomic.gff', '/Users/gracedai/Documents/MethanogeneDB/GCA_902387285.1/GCF_902387285.1_UHGG_MGYG-HGUT-02456_genomic.gff', '/Users/gracedai/Documents/MethanogeneDB/GCA_946463545.1/GCF_946463545.1_Mth-DSM-2095-CCS-WG_genomic.gff', '/Users/gracedai/Documents/MethanogeneDB/GCA_003111625.1/GCF_003111625.1_ASM311162v1_genomic.gff', '/Users/gracedai/Documents/MethanogeneDB/GCA_002252585.1/GCF_002252585.1_ASM225258v1_genomic.gff', '/Users/gracedai/Documents/MethanogeneDB/GCA_017935945.1/GCA_017935945.1_ASM1793594v1_genomic.gff', '/Users/gracedai/Documents/MethanogeneDB/GCA_000953115.1/GCA_000953115.1_DSM1535_genomic.gff', '/Users/gracedai/Documents/MethanogeneDB/GCA_021184045.1/GCF_021184045.1_ASM2118404v1_genomic.gff', '/Users/gracedai/Documents/MethanogeneDB/GCA_017539065.1/GCA_017539065.1_ASM1753906v1_genomic.gff', '/Users/gracedai/Documents/MethanogeneDB/GCA_017427765.1/GCA_017427765.1_ASM1742776v1_genomic.gff', '/Users/gracedai/Documents/MethanogeneDB/GCA_002503105.1/GCA_002503105.1.gff', '/Users/gracedai/Documents/MethanogeneDB/GCA_000217995.1/GCF_000217995.1_ASM21799v1_genomic.gff', '/Users/gracedai/Documents/MethanogeneDB/GCA_017447225.1/GCA_017447225.1_ASM1744722v1_genomic.gff', '/Users/gracedai/Documents/MethanogeneDB/GCA_000251105.1/GCF_000251105.1_ASM25110v1_genomic.gff', '/Users/gracedai/Documents/MethanogeneDB/GCA_000711905.1/GCF_000711905.1_ASM71190v1_genomic.gff', '/Users/gracedai/Documents/MethanogeneDB/GCA_000011005.1/GCF_000011005.1_ASM1100v1_genomic.gff', '/Users/gracedai/Documents/MethanogeneDB/GCA_024167805.1/GCA_024167805.1_ASM2416780v1_genomic.gff', '/Users/gracedai/Documents/MethanogeneDB/GCA_002495885.1/GCA_002495885.1.gff', '/Users/gracedai/Documents/MethanogeneDB/GCA_024808815.1/GCF_024808815.1_ASM2480881v1_genomic.gff', '/Users/gracedai/Documents/MethanogeneDB/GCA_017540705.1/GCA_017540705.1_ASM1754070v1_genomic.gff', '/Users/gracedai/Documents/MethanogeneDB/GCA_025397995.1/GCF_025397995.1_ASM2539799v1_genomic.gff', '/Users/gracedai/Documents/MethanogeneDB/GCA_900095815.1/GCA_900095815.1_SIV6_genomic.gff', '/Users/gracedai/Documents/MethanogeneDB/GCA_000621965.1/GCF_000621965.1_ASM62196v1_genomic.gff', '/Users/gracedai/Documents/MethanogeneDB/GCA_002813675.1/GCF_002813675.1_ASM281367v1_genomic.gff', '/Users/gracedai/Documents/MethanogeneDB/GCA_017432245.1/GCA_017432245.1_ASM1743224v1_genomic.gff', '/Users/gracedai/Documents/MethanogeneDB/GCA_017468935.1/GCA_017468935.1_ASM1746893v1_genomic.gff', '/Users/gracedai/Documents/MethanogeneDB/GCA_017873415.1/GCF_017873415.1_ASM1787341v1_genomic.gff', '/Users/gracedai/Documents/MethanogeneDB/GCA_000744455.1/GCF_000744455.1_ASM74445v1_genomic.gff', '/Users/gracedai/Documents/MethanogeneDB/GCA_000969925.1/GCF_000969925.1_ASM96992v1_genomic.gff', '/Users/gracedai/Documents/MethanogeneDB/GCA_000327485.1/GCF_000327485.1_ASM32748v1_genomic.gff', '/Users/gracedai/Documents/MethanogeneDB/GCA_902763685.1/GCA_902763685.1.gff', '/Users/gracedai/Documents/MethanogeneDB/GCA_002496295.1/GCA_002496295.1.gff', '/Users/gracedai/Documents/MethanogeneDB/GCA_900111645.1/GCF_900111645.1_IMG-taxon_2642422537_annotated_assembly_genomic.gff', '/Users/gracedai/Documents/MethanogeneDB/GCA_000024625.1/GCF_000024625.1_ASM2462v1_genomic.gff', '/Users/gracedai/Documents/MethanogeneDB/GCA_900109595.1/GCF_900109595.1_IMG-taxon_2654588138_annotated_assembly_genomic.gff', '/Users/gracedai/Documents/MethanogeneDB/GCA_002508925.1/GCA_002508925.1.gff', '/Users/gracedai/Documents/MethanogeneDB/GCA_003584625.1/GCA_003584625.1_ASM358462v1_genomic.gff', '/Users/gracedai/Documents/MethanogeneDB/GCA_017504565.1/GCA_017504565.1_ASM1750456v1_genomic.gff', '/Users/gracedai/Documents/MethanogeneDB/GCA_026016205.1/GCA_026016205.1_ASM2601620v1_genomic.gff', '/Users/gracedai/Documents/MethanogeneDB/GCA_002287175.1/GCF_002287175.1_ASM228717v1_genomic.gff', '/Users/gracedai/Documents/MethanogeneDB/GCA_000151225.1/GCA_000151225.1_ASM15122v1_genomic.gff', '/Users/gracedai/Documents/MethanogeneDB/GCA_902795935.1/GCA_902795935.1.gff', '/Users/gracedai/Documents/MethanogeneDB/GCA_017875315.1/GCF_017875315.1_ASM1787531v1_genomic.gff', '/Users/gracedai/Documents/MethanogeneDB/GCA_027555045.1/GCF_027555045.1_ASM2755504v1_genomic.gff', '/Users/gracedai/Documents/MethanogeneDB/GCA_017874455.1/GCF_017874455.1_ASM1787445v1_genomic.gff', '/Users/gracedai/Documents/MethanogeneDB/GCA_001563305.1/GCA_001563305.1_ASM156330v1_genomic.gff', '/Users/gracedai/Documents/MethanogeneDB/GCA_002506325.1/GCA_002506325.1.gff', '/Users/gracedai/Documents/MethanogeneDB/GCA_002508825.1/GCA_002508825.1.gff', '/Users/gracedai/Documents/MethanogeneDB/GCA_017399555.1/GCA_017399555.1_ASM1739955v1_genomic.gff', '/Users/gracedai/Documents/MethanogeneDB/GCA_000306725.1/GCA_000306725.1_ASM30672v1_genomic.gff', '/Users/gracedai/Documents/MethanogeneDB/GCA_002506905.1/GCA_002506905.1.gff', '/Users/gracedai/Documents/MethanogeneDB/GCA_902827225.1/GCF_902827225.1_Methanocaldococcus_lauensis_SG7_genomic.gff', '/Users/gracedai/Documents/MethanogeneDB/GCA_000214725.1/GCF_000214725.1_ASM21472v1_genomic.gff', '/Users/gracedai/Documents/MethanogeneDB/GCA_009914355.1/GCF_009914355.1_ASM991435v1_genomic.gff', '/Users/gracedai/Documents/MethanogeneDB/GCA_003491285.1/GCA_003491285.1_ASM349128v1_genomic.gff', '/Users/gracedai/Documents/MethanogeneDB/GCA_001563245.1/GCF_001563245.1_ASM156324v1_genomic.gff', '/Users/gracedai/Documents/MethanogeneDB/GCA_017512765.1/GCA_017512765.1_ASM1751276v1_genomic.gff', '/Users/gracedai/Documents/MethanogeneDB/GCA_001481295.1/GCF_001481295.1_ASM148129v1_genomic.gff', '/Users/gracedai/Documents/MethanogeneDB/GCA_002509405.1/GCA_002509405.1.gff', '/Users/gracedai/Documents/MethanogeneDB/GCA_000015765.1/GCF_000015765.1_ASM1576v1_genomic.gff', '/Users/gracedai/Documents/MethanogeneDB/GCA_000300255.2/GCF_000300255.2_ASM30025v2_genomic.gff', '/Users/gracedai/Documents/MethanogeneDB/GCA_905171695.1/GCA_905171695.1_GoM-Arc1_E37_genomic.gff', '/Users/gracedai/Documents/MethanogeneDB/GCA_000014945.1/GCF_000014945.1_ASM1494v1_genomic.gff', '/Users/gracedai/Documents/MethanogeneDB/GCA_002496945.1/GCA_002496945.1.gff', '/Users/gracedai/Documents/MethanogeneDB/GCA_000970185.1/GCF_000970185.1_ASM97018v1_genomic.gff', '/Users/gracedai/Documents/MethanogeneDB/GCA_000024185.1/GCF_000024185.1_ASM2418v1_genomic.gff', '/Users/gracedai/Documents/MethanogeneDB/GCA_000220645.1/GCF_000220645.1_ASM22064v1_genomic.gff', '/Users/gracedai/Documents/MethanogeneDB/GCA_030168595.1/GCA_030168595.1_ASM3016859v1_genomic.gff', '/Users/gracedai/Documents/MethanogeneDB/GCA_002973515.1/GCF_002973515.1_ASM297351v1_genomic.gff', '/Users/gracedai/Documents/MethanogeneDB/GCA_001560915.1/GCA_001560915.1_ASM156091v1_genomic.gff', '/Users/gracedai/Documents/MethanogeneDB/GCA_902384015.1/GCF_902384015.1_UHGG_MGYG-HGUT-02164_genomic.gff', '/Users/gracedai/Documents/MethanogeneDB/GCA_000179575.2/GCF_000179575.2_ASM17957v2_genomic.gff', '/Users/gracedai/Documents/MethanogeneDB/GCA_002509645.1/GCA_002509645.1.gff', '/Users/gracedai/Documents/MethanogeneDB/GCA_001889405.1/GCF_001889405.1_ASM188940v1_genomic.gff', '/Users/gracedai/Documents/MethanogeneDB/GCA_017549625.1/GCA_017549625.1_ASM1754962v1_genomic.gff', '/Users/gracedai/Documents/MethanogeneDB/GCA_029854155.1/GCF_029854155.1_ASM2985415v1_genomic.gff', '/Users/gracedai/Documents/MethanogeneDB/GCA_000235565.1/GCF_000235565.1_ASM23556v1_genomic.gff', '/Users/gracedai/Documents/MethanogeneDB/GCA_002813695.1/GCF_002813695.1_ASM281369v1_genomic.gff', '/Users/gracedai/Documents/MethanogeneDB/GCA_030247815.1/GCA_030247815.1_ASM3024781v1_genomic.gff', '/Users/gracedai/Documents/MethanogeneDB/GCA_003052125.1/GCF_003052125.1_ASM305212v1_genomic.gff', '/Users/gracedai/Documents/MethanogeneDB/GCA_905171685.1/GCA_905171685.1_GoM-Arc1_E50_genomic.gff', '/Users/gracedai/Documents/MethanogeneDB/GCA_900177455.1/GCF_900177455.1_IMG-taxon_2706794887_annotated_assembly_genomic.gff', '/Users/gracedai/Documents/MethanogeneDB/GCA_022846175.1/GCF_022846175.1_ASM2284617v1_genomic.gff', '/Users/gracedai/Documents/MethanogeneDB/GCA_000828535.1/GCF_000828535.1_ASM82853v1_genomic.gff', '/Users/gracedai/Documents/MethanogeneDB/GCA_017461225.1/GCA_017461225.1_ASM1746122v1_genomic.gff', '/Users/gracedai/Documents/MethanogeneDB/GCA_017524805.1/GCA_017524805.1_ASM1752480v1_genomic.gff', '/Users/gracedai/Documents/MethanogeneDB/GCA_017508065.1/GCA_017508065.1_ASM1750806v1_genomic.gff', '/Users/gracedai/Documents/MethanogeneDB/GCA_017408885.1/GCA_017408885.1_ASM1740888v1_genomic.gff', '/Users/gracedai/Documents/MethanogeneDB/GCA_018141185.1/GCF_018141185.1_ASM1814118v1_genomic.gff', '/Users/gracedai/Documents/MethanogeneDB/GCA_002509655.1/GCA_002509655.1.gff', '/Users/gracedai/Documents/MethanogeneDB/GCA_023016325.1/GCF_023016325.1_ASM2301632v1_genomic.gff', '/Users/gracedai/Documents/MethanogeneDB/GCA_000021965.1/GCF_000021965.1_ASM2196v1_genomic.gff', '/Users/gracedai/Documents/MethanogeneDB/GCA_002505245.1/GCA_002505245.1.gff', '/Users/gracedai/Documents/MethanogeneDB/GCA_000404165.1/GCF_000404165.1_ASM40416v1_genomic.gff', '/Users/gracedai/Documents/MethanogeneDB/GCA_009917665.1/GCF_009917665.1_ASM991766v1_genomic.gff', '/Users/gracedai/Documents/MethanogeneDB/GCA_000404225.1/GCF_000404225.1_ASM40422v1_genomic.gff', '/Users/gracedai/Documents/MethanogeneDB/GCA_002508935.1/GCA_002508935.1.gff', '/Users/gracedai/Documents/MethanogeneDB/GCA_002813085.1/GCF_002813085.1_ASM281308v1_genomic.gff', '/Users/gracedai/Documents/MethanogeneDB/GCA_000969885.1/GCF_000969885.1_ASM96988v1_genomic.gff', '/Users/gracedai/Documents/MethanogeneDB/GCA_000828575.1/GCF_000828575.1_ASM82857v1_genomic.gff', '/Users/gracedai/Documents/MethanogeneDB/GCA_002498705.1/GCA_002498705.1.gff', '/Users/gracedai/Documents/MethanogeneDB/GCA_900095295.1/GCF_900095295.1_MCBB_genomic.gff', '/Users/gracedai/Documents/MethanogeneDB/GCA_900100715.1/GCF_900100715.1_IMG-taxon_2642422561_annotated_assembly_genomic.gff', '/Users/gracedai/Documents/MethanogeneDB/GCA_017434555.1/GCA_017434555.1_ASM1743455v1_genomic.gff', '/Users/gracedai/Documents/MethanogeneDB/GCA_002498605.1/GCA_002498605.1.gff', '/Users/gracedai/Documents/MethanogeneDB/GCA_900101055.1/GCF_900101055.1_IMG-taxon_2634166298_annotated_assembly_genomic.gff', '/Users/gracedai/Documents/MethanogeneDB/GCA_026625165.1/GCA_026625165.1_ASM2662516v1_genomic.gff', '/Users/gracedai/Documents/MethanogeneDB/GCA_002504405.1/GCA_002504405.1.gff', '/Users/gracedai/Documents/MethanogeneDB/GCA_002506565.1/GCA_002506565.1.gff', '/Users/gracedai/Documents/MethanogeneDB/GCA_002505345.1/GCA_002505345.1.gff', '/Users/gracedai/Documents/MethanogeneDB/GCA_016907005.1/GCF_016907005.1_ASM1690700v1_genomic.gff', '/Users/gracedai/Documents/MethanogeneDB/GCA_900114835.1/GCF_900114835.1_IMG-taxon_2642422540_annotated_assembly_genomic.gff', '/Users/gracedai/Documents/MethanogeneDB/GCA_900116525.1/GCF_900116525.1_IMG-taxon_2595698250_annotated_assembly_genomic.gff', '/Users/gracedai/Documents/MethanogeneDB/GCA_002945325.1/GCF_002945325.1_ASM294532v1_genomic.gff', '/Users/gracedai/Documents/MethanogeneDB/GCA_002509425.1/GCA_002509425.1.gff', '/Users/gracedai/Documents/MethanogeneDB/GCA_000011585.1/GCF_000011585.1_ASM1158v1_genomic.gff', '/Users/gracedai/Documents/MethanogeneDB/GCA_902782945.1/GCA_902782945.1.gff', '/Users/gracedai/Documents/MethanogeneDB/GCA_017537385.1/GCA_017537385.1_ASM1753738v1_genomic.gff', '/Users/gracedai/Documents/MethanogeneDB/GCA_023167465.1/GCF_023167465.1_ASM2316746v1_genomic.gff', '/Users/gracedai/Documents/MethanogeneDB/GCA_000017625.1/GCF_000017625.1_ASM1762v1_genomic.gff', '/Users/gracedai/Documents/MethanogeneDB/GCA_002494805.1/GCA_002494805.1.gff', '/Users/gracedai/Documents/MethanogeneDB/GCA_019669925.1/GCF_019669925.1_ASM1966992v1_genomic.gff', '/Users/gracedai/Documents/MethanogeneDB/GCA_003268005.1/GCF_003268005.1_ASM326800v1_genomic.gff', '/Users/gracedai/Documents/MethanogeneDB/GCA_017622775.1/GCA_017622775.1_ASM1762277v1_genomic.gff', '/Users/gracedai/Documents/MethanogeneDB/GCA_019263745.1/GCF_019263745.1_ASM1926374v1_genomic.gff', '/Users/gracedai/Documents/MethanogeneDB/GCA_902775005.1/GCA_902775005.1.gff', '/Users/gracedai/Documents/MethanogeneDB/GCA_002498365.1/GCA_002498365.1.gff', '/Users/gracedai/Documents/MethanogeneDB/GCA_017434525.1/GCA_017434525.1_ASM1743452v1_genomic.gff', '/Users/gracedai/Documents/MethanogeneDB/GCA_000151245.1/GCA_000151245.1_ASM15124v1_genomic.gff', '/Users/gracedai/Documents/MethanogeneDB/GCA_002508845.1/GCA_002508845.1.gff', '/Users/gracedai/Documents/MethanogeneDB/GCA_002505275.1/GCA_002505275.1.gff', '/Users/gracedai/Documents/MethanogeneDB/GCA_002508905.1/GCA_002508905.1.gff', '/Users/gracedai/Documents/MethanogeneDB/GCA_000328665.1/GCF_000328665.1_ASM32866v1_genomic.gff', '/Users/gracedai/Documents/MethanogeneDB/GCA_017553445.1/GCA_017553445.1_ASM1755344v1_genomic.gff', '/Users/gracedai/Documents/MethanogeneDB/GCA_003814835.1/GCF_003814835.1_ASM381483v1_genomic.gff', '/Users/gracedai/Documents/MethanogeneDB/GCA_019669965.1/GCF_019669965.1_ASM1966996v1_genomic.gff', '/Users/gracedai/Documents/MethanogeneDB/GCA_002498805.1/GCA_002498805.1.gff', '/Users/gracedai/Documents/MethanogeneDB/GCA_002503785.1/GCA_002503785.1.gff', '/Users/gracedai/Documents/MethanogeneDB/GCA_000016125.1/GCF_000016125.1_ASM1612v1_genomic.gff', '/Users/gracedai/Documents/MethanogeneDB/GCA_017875815.1/GCF_017875815.1_ASM1787581v1_genomic.gff', '/Users/gracedai/Documents/MethanogeneDB/GCA_003584605.1/GCA_003584605.1_ASM358460v1_genomic.gff', '/Users/gracedai/Documents/MethanogeneDB/GCA_019262145.1/GCA_019262145.1_ASM1926214v1_genomic.gff', '/Users/gracedai/Documents/MethanogeneDB/GCA_900103415.1/GCF_900103415.1_IMG-taxon_2593339167_annotated_assembly_genomic.gff', '/Users/gracedai/Documents/MethanogeneDB/GCA_017875625.1/GCF_017875625.1_ASM1787562v1_genomic.gff', '/Users/gracedai/Documents/MethanogeneDB/GCA_017875565.1/GCF_017875565.1_ASM1787556v1_genomic.gff', '/Users/gracedai/Documents/MethanogeneDB/GCA_027555065.1/GCF_027555065.1_ASM2755506v1_genomic.gff', '/Users/gracedai/Documents/MethanogeneDB/GCA_017357525.1/GCF_017357525.1_ASM1735752v1_genomic.gff', '/Users/gracedai/Documents/MethanogeneDB/GCA_000350305.1/GCA_000350305.1_ASM35030v1_genomic.gff', '/Users/gracedai/Documents/MethanogeneDB/GCA_902827205.1/GCA_902827205.1_Methanocaldococcus_lauensis_SG1_genomic.gff', '/Users/gracedai/Documents/MethanogeneDB/GCA_030247745.1/GCA_030247745.1_ASM3024774v1_genomic.gff', '/Users/gracedai/Documents/MethanogeneDB/GCA_002508625.1/GCA_002508625.1.gff', '/Users/gracedai/Documents/MethanogeneDB/GCA_017468685.1/GCA_017468685.1_ASM1746868v1_genomic.gff', '/Users/gracedai/Documents/MethanogeneDB/GCA_000828555.1/GCF_000828555.1_ASM82855v1_genomic.gff', '/Users/gracedai/Documents/MethanogeneDB/GCA_000275865.1/GCA_000275865.1_ASM27586v1_genomic.gff', '/Users/gracedai/Documents/MethanogeneDB/GCA_000015825.1/GCF_000015825.1_ASM1582v1_genomic.gff', '/Users/gracedai/Documents/MethanogeneDB/GCA_027554905.1/GCF_027554905.1_ASM2755490v1_genomic.gff', '/Users/gracedai/Documents/MethanogeneDB/GCA_017875325.1/GCF_017875325.1_ASM1787532v1_genomic.gff', '/Users/gracedai/Documents/MethanogeneDB/GCA_000430905.1/GCF_000430905.1_ASM43090v1_genomic.gff', '/Users/gracedai/Documents/MethanogeneDB/GCA_024662215.1/GCF_024662215.1_ASM2466221v1_genomic.gff', '/Users/gracedai/Documents/MethanogeneDB/GCA_000016525.1/GCF_000016525.1_ASM1652v1_genomic.gff', '/Users/gracedai/Documents/MethanogeneDB/GCA_026684035.1/GCF_026684035.1_ASM2668403v1_genomic.gff', '/Users/gracedai/Documents/MethanogeneDB/GCA_017553245.1/GCA_017553245.1_ASM1755324v1_genomic.gff', '/Users/gracedai/Documents/MethanogeneDB/GCA_000063445.1/GCF_000063445.1_ASM6344v1_genomic.gff', '/Users/gracedai/Documents/MethanogeneDB/GCA_002498765.1/GCA_002498765.1.gff', '/Users/gracedai/Documents/MethanogeneDB/GCA_017874375.1/GCF_017874375.1_ASM1787437v1_genomic.gff', '/Users/gracedai/Documents/MethanogeneDB/GCA_002495325.1/GCA_002495325.1.gff', '/Users/gracedai/Documents/MethanogeneDB/GCA_000739065.1/GCF_000739065.1_ASM73906v1_genomic.gff', '/Users/gracedai/Documents/MethanogeneDB/GCA_002498425.1/GCA_002498425.1.gff', '/Users/gracedai/Documents/MethanogeneDB/GCA_022846155.1/GCF_022846155.1_ASM2284615v1_genomic.gff', '/Users/gracedai/Documents/MethanogeneDB/GCA_017561385.1/GCA_017561385.1_ASM1756138v1_genomic.gff', '/Users/gracedai/Documents/MethanogeneDB/GCA_002498375.1/GCA_002498375.1.gff', '/Users/gracedai/Documents/MethanogeneDB/GCA_000007185.1/GCF_000007185.1_ASM718v1_genomic.gff', '/Users/gracedai/Documents/MethanogeneDB/GCA_000017165.1/GCF_000017165.1_ASM1716v1_genomic.gff', '/Users/gracedai/Documents/MethanogeneDB/GCA_000762265.1/GCF_000762265.1_ASM76226v1_genomic.gff', '/Users/gracedai/Documents/MethanogeneDB/GCA_003711245.1/GCF_003711245.1_ASM371124v1_genomic.gff', '/Users/gracedai/Documents/MethanogeneDB/GCA_000147875.1/GCF_000147875.1_ASM14787v1_genomic.gff', '/Users/gracedai/Documents/MethanogeneDB/GCA_000745485.1/GCF_000745485.1_ASM74548v1_genomic.gff', '/Users/gracedai/Documents/MethanogeneDB/GCA_002508855.1/GCA_002508855.1.gff', '/Users/gracedai/Documents/MethanogeneDB/GCA_000214415.1/GCF_000214415.1_ASM21441v1_genomic.gff', '/Users/gracedai/Documents/MethanogeneDB/GCA_013388255.1/GCF_013388255.1_ASM1338825v1_genomic.gff', '/Users/gracedai/Documents/MethanogeneDB/GCA_000376965.1/GCF_000376965.1_ASM37696v1_genomic.gff', '/Users/gracedai/Documents/MethanogeneDB/GCA_902383905.1/GCF_902383905.1_UHGG_MGYG-HGUT-02160_genomic.gff', '/Users/gracedai/Documents/MethanogeneDB/GCA_002495685.1/GCA_002495685.1.gff', '/Users/gracedai/Documents/MethanogeneDB/GCA_002503135.1/GCA_002503135.1.gff', '/Users/gracedai/Documents/MethanogeneDB/GCA_000970245.1/GCF_000970245.1_ASM97024v1_genomic.gff', '/Users/gracedai/Documents/MethanogeneDB/GCA_000304355.2/GCF_000304355.2_Mb_MS2_genomic.gff', '/Users/gracedai/Documents/MethanogeneDB/GCA_000013445.1/GCF_000013445.1_ASM1344v1_genomic.gff', '/Users/gracedai/Documents/MethanogeneDB/GCA_017411925.1/GCA_017411925.1_ASM1741192v1_genomic.gff', '/Users/gracedai/Documents/MethanogeneDB/GCA_017873625.1/GCF_017873625.1_ASM1787362v1_genomic.gff', '/Users/gracedai/Documents/MethanogeneDB/GCA_000711215.1/GCF_000711215.1_ASM71121v1_genomic.gff', '/Users/gracedai/Documents/MethanogeneDB/GCA_003491305.1/GCA_003491305.1_ASM349130v1_genomic.gff', '/Users/gracedai/Documents/MethanogeneDB/GCA_000320505.1/GCF_000320505.1_ASM32050v2_genomic.gff', '/Users/gracedai/Documents/MethanogeneDB/GCA_017407825.1/GCA_017407825.1_ASM1740782v1_genomic.gff', '/Users/gracedai/Documents/MethanogeneDB/GCA_000970005.1/GCF_000970005.1_ASM97000v1_genomic.gff', '/Users/gracedai/Documents/MethanogeneDB/GCA_013761105.1/GCF_013761105.1_ASM1376110v1_genomic.gff', '/Users/gracedai/Documents/MethanogeneDB/GCA_000970205.1/GCF_000970205.1_ASM97020v1_genomic.gff', '/Users/gracedai/Documents/MethanogeneDB/GCA_004363215.1/GCF_004363215.1_ASM436321v1_genomic.gff', '/Users/gracedai/Documents/MethanogeneDB/GCA_024807035.1/GCF_024807035.1_ASM2480703v1_genomic.gff', '/Users/gracedai/Documents/MethanogeneDB/GCA_017519045.1/GCA_017519045.1_ASM1751904v1_genomic.gff', '/Users/gracedai/Documents/MethanogeneDB/GCA_013761045.1/GCF_013761045.1_ASM1376104v1_genomic.gff', '/Users/gracedai/Documents/MethanogeneDB/GCA_017873855.1/GCF_017873855.1_ASM1787385v1_genomic.gff', '/Users/gracedai/Documents/MethanogeneDB/GCA_001304615.2/GCF_001304615.2_ASM130461v2_genomic.gff', '/Users/gracedai/Documents/MethanogeneDB/GCA_017412625.1/GCA_017412625.1_ASM1741262v1_genomic.gff', '/Users/gracedai/Documents/MethanogeneDB/GCA_023617305.1/GCF_023617305.1_ASM2361730v1_genomic.gff', '/Users/gracedai/Documents/MethanogeneDB/GCA_000970045.1/GCF_000970045.1_ASM97004v1_genomic.gff', '/Users/gracedai/Documents/MethanogeneDB/GCA_009911715.1/GCA_009911715.1_ASM991171v1_genomic.gff', '/Users/gracedai/Documents/MethanogeneDB/GCA_025449255.1/GCF_025449255.1_ASM2544925v1_genomic.gff', '/Users/gracedai/Documents/MethanogeneDB/GCA_017875395.1/GCF_017875395.1_ASM1787539v1_genomic.gff', '/Users/gracedai/Documents/MethanogeneDB/GCA_025914035.1/GCF_025914035.1_ASM2591403v1_genomic.gff', '/Users/gracedai/Documents/MethanogeneDB/GCA_003385755.1/GCF_003385755.1_ASM338575v1_genomic.gff', '/Users/gracedai/Documents/MethanogeneDB/GCA_017633855.1/GCA_017633855.1_ASM1763385v1_genomic.gff', '/Users/gracedai/Documents/MethanogeneDB/GCA_000191585.1/GCF_000191585.1_ASM19158v1_genomic.gff', '/Users/gracedai/Documents/MethanogeneDB/GCA_013761055.1/GCF_013761055.1_ASM1376105v1_genomic.gff', '/Users/gracedai/Documents/MethanogeneDB/GCA_000007065.1/GCF_000007065.1_ASM706v1_genomic.gff', '/Users/gracedai/Documents/MethanogeneDB/GCA_002498785.1/GCA_002498785.1.gff', '/Users/gracedai/Documents/MethanogeneDB/GCA_900079125.1/GCA_900079125.1_MBBA_genomic.gff', '/Users/gracedai/Documents/MethanogeneDB/GCA_002813655.1/GCF_002813655.1_ASM281365v1_genomic.gff', '/Users/gracedai/Documents/MethanogeneDB/GCA_017940815.1/GCA_017940815.1_ASM1794081v1_genomic.gff', '/Users/gracedai/Documents/MethanogeneDB/GCA_017387505.1/GCA_017387505.1_ASM1738750v1_genomic.gff', '/Users/gracedai/Documents/MethanogeneDB/GCA_000204415.1/GCF_000204415.1_ASM20441v1_genomic.gff', '/Users/gracedai/Documents/MethanogeneDB/GCA_002506995.1/GCA_002506995.1.gff', '/Users/gracedai/Documents/MethanogeneDB/GCA_000800805.1/GCF_000800805.1_ASM80080v1_genomic.gff', '/Users/gracedai/Documents/MethanogeneDB/GCA_003351865.1/GCF_003351865.1_ASM335186v1_genomic.gff', '/Users/gracedai/Documents/MethanogeneDB/GCA_017410345.1/GCA_017410345.1_ASM1741034v1_genomic.gff', '/Users/gracedai/Documents/MethanogeneDB/GCA_002494585.1/GCA_002494585.1.gff', '/Users/gracedai/Documents/MethanogeneDB/GCA_001548675.1/GCF_001548675.1_ASM154867v1_genomic.gff', '/Users/gracedai/Documents/MethanogeneDB/GCA_000017185.1/GCF_000017185.1_ASM1718v1_genomic.gff', '/Users/gracedai/Documents/MethanogeneDB/GCA_017473945.1/GCA_017473945.1_ASM1747394v1_genomic.gff', '/Users/gracedai/Documents/MethanogeneDB/GCA_002502465.1/GCA_002502465.1.gff', '/Users/gracedai/Documents/MethanogeneDB/GCA_024170505.1/GCF_024170505.1_ASM2417050v1_genomic.gff', '/Users/gracedai/Documents/MethanogeneDB/GCA_000499765.1/GCA_000499765.1_Methanobacterium_genomic.gff', '/Users/gracedai/Documents/MethanogeneDB/GCA_017409525.1/GCA_017409525.1_ASM1740952v1_genomic.gff', '/Users/gracedai/Documents/MethanogeneDB/GCA_001458655.1/GCF_001458655.1_Mb9_genomic.gff', '/Users/gracedai/Documents/MethanogeneDB/GCA_017406825.1/GCA_017406825.1_ASM1740682v1_genomic.gff', '/Users/gracedai/Documents/MethanogeneDB/GCA_000008645.1/GCF_000008645.1_ASM864v1_genomic.gff', '/Users/gracedai/Documents/MethanogeneDB/GCA_000145295.1/GCF_000145295.1_ASM14529v1_genomic.gff', '/Users/gracedai/Documents/MethanogeneDB/GCA_000012545.1/GCF_000012545.1_ASM1254v1_genomic.gff', '/Users/gracedai/Documents/MethanogeneDB/GCA_900036045.1/GCF_900036045.1_Methanoculleus_sp_MAB1_genomic.gff', '/Users/gracedai/Documents/MethanogeneDB/GCA_900106905.1/GCF_900106905.1_IMG-taxon_2642422606_annotated_assembly_genomic.gff', '/Users/gracedai/Documents/MethanogeneDB/GCA_000023985.1/GCF_000023985.1_ASM2398v1_genomic.gff', '/Users/gracedai/Documents/MethanogeneDB/GCA_014203295.1/GCF_014203295.1_ASM1420329v1_genomic.gff', '/Users/gracedai/Documents/MethanogeneDB/GCA_000341715.1/GCF_000341715.1_ASM34171v1_genomic.gff', '/Users/gracedai/Documents/MethanogeneDB/GCA_018502485.1/GCF_018502485.1_ASM1850248v1_genomic.gff', '/Users/gracedai/Documents/MethanogeneDB/GCA_029633915.1/GCF_029633915.1_ASM2963391v1_genomic.gff', '/Users/gracedai/Documents/MethanogeneDB/GCA_008033705.1/GCF_008033705.1_ASM803370v1_genomic.gff', '/Users/gracedai/Documents/MethanogeneDB/GCA_014207315.1/GCF_014207315.1_ASM1420731v1_genomic.gff', '/Users/gracedai/Documents/MethanogeneDB/GCA_902787415.1/GCA_902787415.1.gff', '/Users/gracedai/Documents/MethanogeneDB/GCA_000025865.1/GCF_000025865.1_ASM2586v1_genomic.gff']\n"
     ]
    },
    {
     "data": {
      "text/plain": [
       "275"
      ]
     },
     "execution_count": 24,
     "metadata": {},
     "output_type": "execute_result"
    }
   ],
   "source": [
    "# list to store paths to gff files\n",
    "gff_files = []\n",
    "# iterate through current working directory and for each file \n",
    "# append the gff path to a list \n",
    "for root, dirs, files in os.walk(os.getcwd()):\n",
    "    for file in files:\n",
    "        if file.endswith(\".gff\"):\n",
    "            gff_files.append(os.path.join(root, file))\n",
    "print(gff_files)\n",
    "len(gff_files)"
   ]
  },
  {
   "cell_type": "code",
   "execution_count": 25,
   "id": "a4818c09",
   "metadata": {},
   "outputs": [
    {
     "name": "stdout",
     "output_type": "stream",
     "text": [
      "['GCA_000970225.1/GCF_000970225.1_ASM97022v1_genomic.gff', 'GCA_000092305.1/GCF_000092305.1_ASM9230v1_genomic.gff', 'GCA_000970165.1/GCF_000970165.1_ASM97016v1_genomic.gff', 'GCA_024170265.1/GCF_024170265.1_ASM2417026v1_genomic.gff', 'GCA_002502925.1/GCA_002502925.1.gff', 'GCA_000091665.1/GCF_000091665.1_ASM9166v1_genomic.gff', 'GCA_020885915.1/GCF_020885915.1_ASM2088591v1_genomic.gff', 'GCA_017535165.1/GCA_017535165.1_ASM1753516v1_genomic.gff', 'GCA_000166095.1/GCF_000166095.1_ASM16609v1_genomic.gff', 'GCA_017412935.1/GCA_017412935.1_ASM1741293v1_genomic.gff', 'GCA_002508885.1/GCA_002508885.1.gff', 'GCA_029633965.1/GCF_029633965.1_ASM2963396v1_genomic.gff', 'GCA_900114585.1/GCF_900114585.1_IMG-taxon_2593339150_annotated_assembly_genomic.gff', 'GCA_000744315.1/GCF_000744315.1_ASM74431v1_genomic.gff', 'GCA_028743435.1/GCF_028743435.1_ASM2874343v1_genomic.gff', 'GCA_001477655.1/GCF_001477655.1_ASM147765v1_genomic.gff', 'GCA_002356395.1/GCA_002356395.1_ASM235639v1_genomic.gff', 'GCA_030168575.1/GCA_030168575.1_ASM3016857v1_genomic.gff', 'GCA_000970325.1/GCF_000970325.1_ASM97032v1_genomic.gff', 'GCA_002502965.1/GCA_002502965.1.gff', 'GCA_000970265.1/GCF_000970265.1_ASM97026v1_genomic.gff', 'GCA_000025525.1/GCF_000025525.1_ASM2552v1_genomic.gff', 'GCA_001729965.1/GCF_001729965.1_ASM172996v1_genomic.gff', 'GCA_900215215.1/GCF_900215215.1_IMG-taxon_2703719067_annotated_assembly_genomic.gff', 'GCA_902762095.1/GCA_902762095_genomic.gff', 'GCA_000746075.1/GCF_000746075.1_ASM74607v1_genomic.gff', 'GCA_000196655.1/GCF_000196655.1_ASM19665v1_genomic.gff', 'GCA_000013725.1/GCF_000013725.1_ASM1372v1_genomic.gff', 'GCA_902387285.1/GCF_902387285.1_UHGG_MGYG-HGUT-02456_genomic.gff', 'GCA_946463545.1/GCF_946463545.1_Mth-DSM-2095-CCS-WG_genomic.gff', 'GCA_003111625.1/GCF_003111625.1_ASM311162v1_genomic.gff', 'GCA_002252585.1/GCF_002252585.1_ASM225258v1_genomic.gff', 'GCA_017935945.1/GCA_017935945.1_ASM1793594v1_genomic.gff', 'GCA_000953115.1/GCA_000953115.1_DSM1535_genomic.gff', 'GCA_021184045.1/GCF_021184045.1_ASM2118404v1_genomic.gff', 'GCA_017539065.1/GCA_017539065.1_ASM1753906v1_genomic.gff', 'GCA_017427765.1/GCA_017427765.1_ASM1742776v1_genomic.gff', 'GCA_002503105.1/GCA_002503105.1.gff', 'GCA_000217995.1/GCF_000217995.1_ASM21799v1_genomic.gff', 'GCA_017447225.1/GCA_017447225.1_ASM1744722v1_genomic.gff', 'GCA_000251105.1/GCF_000251105.1_ASM25110v1_genomic.gff', 'GCA_000711905.1/GCF_000711905.1_ASM71190v1_genomic.gff', 'GCA_000011005.1/GCF_000011005.1_ASM1100v1_genomic.gff', 'GCA_024167805.1/GCA_024167805.1_ASM2416780v1_genomic.gff', 'GCA_002495885.1/GCA_002495885.1.gff', 'GCA_024808815.1/GCF_024808815.1_ASM2480881v1_genomic.gff', 'GCA_017540705.1/GCA_017540705.1_ASM1754070v1_genomic.gff', 'GCA_025397995.1/GCF_025397995.1_ASM2539799v1_genomic.gff', 'GCA_900095815.1/GCA_900095815.1_SIV6_genomic.gff', 'GCA_000621965.1/GCF_000621965.1_ASM62196v1_genomic.gff', 'GCA_002813675.1/GCF_002813675.1_ASM281367v1_genomic.gff', 'GCA_017432245.1/GCA_017432245.1_ASM1743224v1_genomic.gff', 'GCA_017468935.1/GCA_017468935.1_ASM1746893v1_genomic.gff', 'GCA_017873415.1/GCF_017873415.1_ASM1787341v1_genomic.gff', 'GCA_000744455.1/GCF_000744455.1_ASM74445v1_genomic.gff', 'GCA_000969925.1/GCF_000969925.1_ASM96992v1_genomic.gff', 'GCA_000327485.1/GCF_000327485.1_ASM32748v1_genomic.gff', 'GCA_902763685.1/GCA_902763685.1.gff', 'GCA_002496295.1/GCA_002496295.1.gff', 'GCA_900111645.1/GCF_900111645.1_IMG-taxon_2642422537_annotated_assembly_genomic.gff', 'GCA_000024625.1/GCF_000024625.1_ASM2462v1_genomic.gff', 'GCA_900109595.1/GCF_900109595.1_IMG-taxon_2654588138_annotated_assembly_genomic.gff', 'GCA_002508925.1/GCA_002508925.1.gff', 'GCA_003584625.1/GCA_003584625.1_ASM358462v1_genomic.gff', 'GCA_017504565.1/GCA_017504565.1_ASM1750456v1_genomic.gff', 'GCA_026016205.1/GCA_026016205.1_ASM2601620v1_genomic.gff', 'GCA_002287175.1/GCF_002287175.1_ASM228717v1_genomic.gff', 'GCA_000151225.1/GCA_000151225.1_ASM15122v1_genomic.gff', 'GCA_902795935.1/GCA_902795935.1.gff', 'GCA_017875315.1/GCF_017875315.1_ASM1787531v1_genomic.gff', 'GCA_027555045.1/GCF_027555045.1_ASM2755504v1_genomic.gff', 'GCA_017874455.1/GCF_017874455.1_ASM1787445v1_genomic.gff', 'GCA_001563305.1/GCA_001563305.1_ASM156330v1_genomic.gff', 'GCA_002506325.1/GCA_002506325.1.gff', 'GCA_002508825.1/GCA_002508825.1.gff', 'GCA_017399555.1/GCA_017399555.1_ASM1739955v1_genomic.gff', 'GCA_000306725.1/GCA_000306725.1_ASM30672v1_genomic.gff', 'GCA_002506905.1/GCA_002506905.1.gff', 'GCA_902827225.1/GCF_902827225.1_Methanocaldococcus_lauensis_SG7_genomic.gff', 'GCA_000214725.1/GCF_000214725.1_ASM21472v1_genomic.gff', 'GCA_009914355.1/GCF_009914355.1_ASM991435v1_genomic.gff', 'GCA_003491285.1/GCA_003491285.1_ASM349128v1_genomic.gff', 'GCA_001563245.1/GCF_001563245.1_ASM156324v1_genomic.gff', 'GCA_017512765.1/GCA_017512765.1_ASM1751276v1_genomic.gff', 'GCA_001481295.1/GCF_001481295.1_ASM148129v1_genomic.gff', 'GCA_002509405.1/GCA_002509405.1.gff', 'GCA_000015765.1/GCF_000015765.1_ASM1576v1_genomic.gff', 'GCA_000300255.2/GCF_000300255.2_ASM30025v2_genomic.gff', 'GCA_905171695.1/GCA_905171695.1_GoM-Arc1_E37_genomic.gff', 'GCA_000014945.1/GCF_000014945.1_ASM1494v1_genomic.gff', 'GCA_002496945.1/GCA_002496945.1.gff', 'GCA_000970185.1/GCF_000970185.1_ASM97018v1_genomic.gff', 'GCA_000024185.1/GCF_000024185.1_ASM2418v1_genomic.gff', 'GCA_000220645.1/GCF_000220645.1_ASM22064v1_genomic.gff', 'GCA_030168595.1/GCA_030168595.1_ASM3016859v1_genomic.gff', 'GCA_002973515.1/GCF_002973515.1_ASM297351v1_genomic.gff', 'GCA_001560915.1/GCA_001560915.1_ASM156091v1_genomic.gff', 'GCA_902384015.1/GCF_902384015.1_UHGG_MGYG-HGUT-02164_genomic.gff', 'GCA_000179575.2/GCF_000179575.2_ASM17957v2_genomic.gff', 'GCA_002509645.1/GCA_002509645.1.gff', 'GCA_001889405.1/GCF_001889405.1_ASM188940v1_genomic.gff', 'GCA_017549625.1/GCA_017549625.1_ASM1754962v1_genomic.gff', 'GCA_029854155.1/GCF_029854155.1_ASM2985415v1_genomic.gff', 'GCA_000235565.1/GCF_000235565.1_ASM23556v1_genomic.gff', 'GCA_002813695.1/GCF_002813695.1_ASM281369v1_genomic.gff', 'GCA_030247815.1/GCA_030247815.1_ASM3024781v1_genomic.gff', 'GCA_003052125.1/GCF_003052125.1_ASM305212v1_genomic.gff', 'GCA_905171685.1/GCA_905171685.1_GoM-Arc1_E50_genomic.gff', 'GCA_900177455.1/GCF_900177455.1_IMG-taxon_2706794887_annotated_assembly_genomic.gff', 'GCA_022846175.1/GCF_022846175.1_ASM2284617v1_genomic.gff', 'GCA_000828535.1/GCF_000828535.1_ASM82853v1_genomic.gff', 'GCA_017461225.1/GCA_017461225.1_ASM1746122v1_genomic.gff', 'GCA_017524805.1/GCA_017524805.1_ASM1752480v1_genomic.gff', 'GCA_017508065.1/GCA_017508065.1_ASM1750806v1_genomic.gff', 'GCA_017408885.1/GCA_017408885.1_ASM1740888v1_genomic.gff', 'GCA_018141185.1/GCF_018141185.1_ASM1814118v1_genomic.gff', 'GCA_002509655.1/GCA_002509655.1.gff', 'GCA_023016325.1/GCF_023016325.1_ASM2301632v1_genomic.gff', 'GCA_000021965.1/GCF_000021965.1_ASM2196v1_genomic.gff', 'GCA_002505245.1/GCA_002505245.1.gff', 'GCA_000404165.1/GCF_000404165.1_ASM40416v1_genomic.gff', 'GCA_009917665.1/GCF_009917665.1_ASM991766v1_genomic.gff', 'GCA_000404225.1/GCF_000404225.1_ASM40422v1_genomic.gff', 'GCA_002508935.1/GCA_002508935.1.gff', 'GCA_002813085.1/GCF_002813085.1_ASM281308v1_genomic.gff', 'GCA_000969885.1/GCF_000969885.1_ASM96988v1_genomic.gff', 'GCA_000828575.1/GCF_000828575.1_ASM82857v1_genomic.gff', 'GCA_002498705.1/GCA_002498705.1.gff', 'GCA_900095295.1/GCF_900095295.1_MCBB_genomic.gff', 'GCA_900100715.1/GCF_900100715.1_IMG-taxon_2642422561_annotated_assembly_genomic.gff', 'GCA_017434555.1/GCA_017434555.1_ASM1743455v1_genomic.gff', 'GCA_002498605.1/GCA_002498605.1.gff', 'GCA_900101055.1/GCF_900101055.1_IMG-taxon_2634166298_annotated_assembly_genomic.gff', 'GCA_026625165.1/GCA_026625165.1_ASM2662516v1_genomic.gff', 'GCA_002504405.1/GCA_002504405.1.gff', 'GCA_002506565.1/GCA_002506565.1.gff', 'GCA_002505345.1/GCA_002505345.1.gff', 'GCA_016907005.1/GCF_016907005.1_ASM1690700v1_genomic.gff', 'GCA_900114835.1/GCF_900114835.1_IMG-taxon_2642422540_annotated_assembly_genomic.gff', 'GCA_900116525.1/GCF_900116525.1_IMG-taxon_2595698250_annotated_assembly_genomic.gff', 'GCA_002945325.1/GCF_002945325.1_ASM294532v1_genomic.gff', 'GCA_002509425.1/GCA_002509425.1.gff', 'GCA_000011585.1/GCF_000011585.1_ASM1158v1_genomic.gff', 'GCA_902782945.1/GCA_902782945.1.gff', 'GCA_017537385.1/GCA_017537385.1_ASM1753738v1_genomic.gff', 'GCA_023167465.1/GCF_023167465.1_ASM2316746v1_genomic.gff', 'GCA_000017625.1/GCF_000017625.1_ASM1762v1_genomic.gff', 'GCA_002494805.1/GCA_002494805.1.gff', 'GCA_019669925.1/GCF_019669925.1_ASM1966992v1_genomic.gff', 'GCA_003268005.1/GCF_003268005.1_ASM326800v1_genomic.gff', 'GCA_017622775.1/GCA_017622775.1_ASM1762277v1_genomic.gff', 'GCA_019263745.1/GCF_019263745.1_ASM1926374v1_genomic.gff', 'GCA_902775005.1/GCA_902775005.1.gff', 'GCA_002498365.1/GCA_002498365.1.gff', 'GCA_017434525.1/GCA_017434525.1_ASM1743452v1_genomic.gff', 'GCA_000151245.1/GCA_000151245.1_ASM15124v1_genomic.gff', 'GCA_002508845.1/GCA_002508845.1.gff', 'GCA_002505275.1/GCA_002505275.1.gff', 'GCA_002508905.1/GCA_002508905.1.gff', 'GCA_000328665.1/GCF_000328665.1_ASM32866v1_genomic.gff', 'GCA_017553445.1/GCA_017553445.1_ASM1755344v1_genomic.gff', 'GCA_003814835.1/GCF_003814835.1_ASM381483v1_genomic.gff', 'GCA_019669965.1/GCF_019669965.1_ASM1966996v1_genomic.gff', 'GCA_002498805.1/GCA_002498805.1.gff', 'GCA_002503785.1/GCA_002503785.1.gff', 'GCA_000016125.1/GCF_000016125.1_ASM1612v1_genomic.gff', 'GCA_017875815.1/GCF_017875815.1_ASM1787581v1_genomic.gff', 'GCA_003584605.1/GCA_003584605.1_ASM358460v1_genomic.gff', 'GCA_019262145.1/GCA_019262145.1_ASM1926214v1_genomic.gff', 'GCA_900103415.1/GCF_900103415.1_IMG-taxon_2593339167_annotated_assembly_genomic.gff', 'GCA_017875625.1/GCF_017875625.1_ASM1787562v1_genomic.gff', 'GCA_017875565.1/GCF_017875565.1_ASM1787556v1_genomic.gff', 'GCA_027555065.1/GCF_027555065.1_ASM2755506v1_genomic.gff', 'GCA_017357525.1/GCF_017357525.1_ASM1735752v1_genomic.gff', 'GCA_000350305.1/GCA_000350305.1_ASM35030v1_genomic.gff', 'GCA_902827205.1/GCA_902827205.1_Methanocaldococcus_lauensis_SG1_genomic.gff', 'GCA_030247745.1/GCA_030247745.1_ASM3024774v1_genomic.gff', 'GCA_002508625.1/GCA_002508625.1.gff', 'GCA_017468685.1/GCA_017468685.1_ASM1746868v1_genomic.gff', 'GCA_000828555.1/GCF_000828555.1_ASM82855v1_genomic.gff', 'GCA_000275865.1/GCA_000275865.1_ASM27586v1_genomic.gff', 'GCA_000015825.1/GCF_000015825.1_ASM1582v1_genomic.gff', 'GCA_027554905.1/GCF_027554905.1_ASM2755490v1_genomic.gff', 'GCA_017875325.1/GCF_017875325.1_ASM1787532v1_genomic.gff', 'GCA_000430905.1/GCF_000430905.1_ASM43090v1_genomic.gff', 'GCA_024662215.1/GCF_024662215.1_ASM2466221v1_genomic.gff', 'GCA_000016525.1/GCF_000016525.1_ASM1652v1_genomic.gff', 'GCA_026684035.1/GCF_026684035.1_ASM2668403v1_genomic.gff', 'GCA_017553245.1/GCA_017553245.1_ASM1755324v1_genomic.gff', 'GCA_000063445.1/GCF_000063445.1_ASM6344v1_genomic.gff', 'GCA_002498765.1/GCA_002498765.1.gff', 'GCA_017874375.1/GCF_017874375.1_ASM1787437v1_genomic.gff', 'GCA_002495325.1/GCA_002495325.1.gff', 'GCA_000739065.1/GCF_000739065.1_ASM73906v1_genomic.gff', 'GCA_002498425.1/GCA_002498425.1.gff', 'GCA_022846155.1/GCF_022846155.1_ASM2284615v1_genomic.gff', 'GCA_017561385.1/GCA_017561385.1_ASM1756138v1_genomic.gff', 'GCA_002498375.1/GCA_002498375.1.gff', 'GCA_000007185.1/GCF_000007185.1_ASM718v1_genomic.gff', 'GCA_000017165.1/GCF_000017165.1_ASM1716v1_genomic.gff', 'GCA_000762265.1/GCF_000762265.1_ASM76226v1_genomic.gff', 'GCA_003711245.1/GCF_003711245.1_ASM371124v1_genomic.gff', 'GCA_000147875.1/GCF_000147875.1_ASM14787v1_genomic.gff', 'GCA_000745485.1/GCF_000745485.1_ASM74548v1_genomic.gff', 'GCA_002508855.1/GCA_002508855.1.gff', 'GCA_000214415.1/GCF_000214415.1_ASM21441v1_genomic.gff', 'GCA_013388255.1/GCF_013388255.1_ASM1338825v1_genomic.gff', 'GCA_000376965.1/GCF_000376965.1_ASM37696v1_genomic.gff', 'GCA_902383905.1/GCF_902383905.1_UHGG_MGYG-HGUT-02160_genomic.gff', 'GCA_002495685.1/GCA_002495685.1.gff', 'GCA_002503135.1/GCA_002503135.1.gff', 'GCA_000970245.1/GCF_000970245.1_ASM97024v1_genomic.gff', 'GCA_000304355.2/GCF_000304355.2_Mb_MS2_genomic.gff', 'GCA_000013445.1/GCF_000013445.1_ASM1344v1_genomic.gff', 'GCA_017411925.1/GCA_017411925.1_ASM1741192v1_genomic.gff', 'GCA_017873625.1/GCF_017873625.1_ASM1787362v1_genomic.gff', 'GCA_000711215.1/GCF_000711215.1_ASM71121v1_genomic.gff', 'GCA_003491305.1/GCA_003491305.1_ASM349130v1_genomic.gff', 'GCA_000320505.1/GCF_000320505.1_ASM32050v2_genomic.gff', 'GCA_017407825.1/GCA_017407825.1_ASM1740782v1_genomic.gff', 'GCA_000970005.1/GCF_000970005.1_ASM97000v1_genomic.gff', 'GCA_013761105.1/GCF_013761105.1_ASM1376110v1_genomic.gff', 'GCA_000970205.1/GCF_000970205.1_ASM97020v1_genomic.gff', 'GCA_004363215.1/GCF_004363215.1_ASM436321v1_genomic.gff', 'GCA_024807035.1/GCF_024807035.1_ASM2480703v1_genomic.gff', 'GCA_017519045.1/GCA_017519045.1_ASM1751904v1_genomic.gff', 'GCA_013761045.1/GCF_013761045.1_ASM1376104v1_genomic.gff', 'GCA_017873855.1/GCF_017873855.1_ASM1787385v1_genomic.gff', 'GCA_001304615.2/GCF_001304615.2_ASM130461v2_genomic.gff', 'GCA_017412625.1/GCA_017412625.1_ASM1741262v1_genomic.gff', 'GCA_023617305.1/GCF_023617305.1_ASM2361730v1_genomic.gff', 'GCA_000970045.1/GCF_000970045.1_ASM97004v1_genomic.gff', 'GCA_009911715.1/GCA_009911715.1_ASM991171v1_genomic.gff', 'GCA_025449255.1/GCF_025449255.1_ASM2544925v1_genomic.gff', 'GCA_017875395.1/GCF_017875395.1_ASM1787539v1_genomic.gff', 'GCA_025914035.1/GCF_025914035.1_ASM2591403v1_genomic.gff', 'GCA_003385755.1/GCF_003385755.1_ASM338575v1_genomic.gff', 'GCA_017633855.1/GCA_017633855.1_ASM1763385v1_genomic.gff', 'GCA_000191585.1/GCF_000191585.1_ASM19158v1_genomic.gff', 'GCA_013761055.1/GCF_013761055.1_ASM1376105v1_genomic.gff', 'GCA_000007065.1/GCF_000007065.1_ASM706v1_genomic.gff', 'GCA_002498785.1/GCA_002498785.1.gff', 'GCA_900079125.1/GCA_900079125.1_MBBA_genomic.gff', 'GCA_002813655.1/GCF_002813655.1_ASM281365v1_genomic.gff', 'GCA_017940815.1/GCA_017940815.1_ASM1794081v1_genomic.gff', 'GCA_017387505.1/GCA_017387505.1_ASM1738750v1_genomic.gff', 'GCA_000204415.1/GCF_000204415.1_ASM20441v1_genomic.gff', 'GCA_002506995.1/GCA_002506995.1.gff', 'GCA_000800805.1/GCF_000800805.1_ASM80080v1_genomic.gff', 'GCA_003351865.1/GCF_003351865.1_ASM335186v1_genomic.gff', 'GCA_017410345.1/GCA_017410345.1_ASM1741034v1_genomic.gff', 'GCA_002494585.1/GCA_002494585.1.gff', 'GCA_001548675.1/GCF_001548675.1_ASM154867v1_genomic.gff', 'GCA_000017185.1/GCF_000017185.1_ASM1718v1_genomic.gff', 'GCA_017473945.1/GCA_017473945.1_ASM1747394v1_genomic.gff', 'GCA_002502465.1/GCA_002502465.1.gff', 'GCA_024170505.1/GCF_024170505.1_ASM2417050v1_genomic.gff', 'GCA_000499765.1/GCA_000499765.1_Methanobacterium_genomic.gff', 'GCA_017409525.1/GCA_017409525.1_ASM1740952v1_genomic.gff', 'GCA_001458655.1/GCF_001458655.1_Mb9_genomic.gff', 'GCA_017406825.1/GCA_017406825.1_ASM1740682v1_genomic.gff', 'GCA_000008645.1/GCF_000008645.1_ASM864v1_genomic.gff', 'GCA_000145295.1/GCF_000145295.1_ASM14529v1_genomic.gff', 'GCA_000012545.1/GCF_000012545.1_ASM1254v1_genomic.gff', 'GCA_900036045.1/GCF_900036045.1_Methanoculleus_sp_MAB1_genomic.gff', 'GCA_900106905.1/GCF_900106905.1_IMG-taxon_2642422606_annotated_assembly_genomic.gff', 'GCA_000023985.1/GCF_000023985.1_ASM2398v1_genomic.gff', 'GCA_014203295.1/GCF_014203295.1_ASM1420329v1_genomic.gff', 'GCA_000341715.1/GCF_000341715.1_ASM34171v1_genomic.gff', 'GCA_018502485.1/GCF_018502485.1_ASM1850248v1_genomic.gff', 'GCA_029633915.1/GCF_029633915.1_ASM2963391v1_genomic.gff', 'GCA_008033705.1/GCF_008033705.1_ASM803370v1_genomic.gff', 'GCA_014207315.1/GCF_014207315.1_ASM1420731v1_genomic.gff', 'GCA_902787415.1/GCA_902787415.1.gff', 'GCA_000025865.1/GCF_000025865.1_ASM2586v1_genomic.gff']\n"
     ]
    },
    {
     "data": {
      "text/plain": [
       "275"
      ]
     },
     "execution_count": 25,
     "metadata": {},
     "output_type": "execute_result"
    }
   ],
   "source": [
    "gff_paths = []\n",
    "for file in gff_files:\n",
    "    gff_paths.append(file[40:])\n",
    "print(gff_paths)\n",
    "len(gff_paths)"
   ]
  },
  {
   "cell_type": "code",
   "execution_count": 6,
   "id": "1316e212",
   "metadata": {},
   "outputs": [],
   "source": [
    "import pandas as pd\n",
    "from sh import gunzip"
   ]
  },
  {
   "cell_type": "markdown",
   "id": "2b63f759",
   "metadata": {},
   "source": [
    "# Create a database of metadata regarding the genes\n",
    "GFF File Format: \n",
    "- Fields must be tab-separated. Also, all but the final field in each feature line must contain a value; \"empty\" columns should be denoted with a '.'\n",
    "[0] seqname - name of the chromosome or scaffold; chromosome names can be given with or without the 'chr' prefix. Important note: the seqname must be one used within Ensembl, i.e. a standard chromosome name or an Ensembl identifier such as a scaffold ID, without any additional content such as species or assembly. See the example GFF output below.\n",
    "[1] source - name of the program that generated this feature, or the data source (database or project name)\n",
    "[2] feature - feature type name, e.g. Gene, Variation, Similarity\n",
    "[3] start - Start position* of the feature, with sequence numbering starting at 1.\n",
    "[4] end - End position* of the feature, with sequence numbering starting at 1.\n",
    "[5] score - A floating point value.\n",
    "[6] strand - defined as + (forward) or - (reverse).\n",
    "[7] frame - One of '0', '1' or '2'. '0' indicates that the first base of the feature is the first base of a codon, '1' that the second base is the first base of a codon, and so on..\n",
    "[8] attribute - A semicolon-separated list of tag-value pairs, providing additional information about each feature."
   ]
  },
  {
   "cell_type": "code",
   "execution_count": 22,
   "id": "3769efa1",
   "metadata": {},
   "outputs": [],
   "source": [
    "gff_paths = ['GCA_902775675.1/GCA_902775675.1.gff', 'GCA_902789165.1/GCA_902789165.1.gff', 'GCA_902757365.1/GCA_902757365.1.gff', 'GCA_002509015.1/GCA_002509015.1.gff', 'GCA_001548675.1/GCF_001548675.1_ASM154867v1_genomic.gff', 'GCA_001477655.1/GCF_001477655.1_ASM147765v1_genomic.gff', 'GCA_003814835.1/GCF_003814835.1_ASM381483v1_genomic.gff', 'GCA_000024185.1/GCF_000024185.1_ASM2418v1_genomic.gff', 'GCA_001563245.1/GCF_001563245.1_ASM156324v1_genomic.gff', 'GCA_902775725.1/GCA_902775725.1.gff']"
   ]
  },
  {
   "cell_type": "code",
   "execution_count": 29,
   "id": "e3288df2",
   "metadata": {},
   "outputs": [
    {
     "data": {
      "text/html": [
       "<div>\n",
       "<style scoped>\n",
       "    .dataframe tbody tr th:only-of-type {\n",
       "        vertical-align: middle;\n",
       "    }\n",
       "\n",
       "    .dataframe tbody tr th {\n",
       "        vertical-align: top;\n",
       "    }\n",
       "\n",
       "    .dataframe thead th {\n",
       "        text-align: right;\n",
       "    }\n",
       "</style>\n",
       "<table border=\"1\" class=\"dataframe\">\n",
       "  <thead>\n",
       "    <tr style=\"text-align: right;\">\n",
       "      <th></th>\n",
       "      <th>assembly_accession</th>\n",
       "      <th>index</th>\n",
       "      <th>start</th>\n",
       "      <th>stop</th>\n",
       "    </tr>\n",
       "  </thead>\n",
       "  <tbody>\n",
       "    <tr>\n",
       "      <th>0</th>\n",
       "      <td>GCA_001548675.1</td>\n",
       "      <td>1</td>\n",
       "      <td>169708</td>\n",
       "      <td>170580</td>\n",
       "    </tr>\n",
       "    <tr>\n",
       "      <th>1</th>\n",
       "      <td>GCA_001548675.1</td>\n",
       "      <td>2</td>\n",
       "      <td>492626</td>\n",
       "      <td>494101</td>\n",
       "    </tr>\n",
       "    <tr>\n",
       "      <th>2</th>\n",
       "      <td>GCA_001548675.1</td>\n",
       "      <td>3</td>\n",
       "      <td>710846</td>\n",
       "      <td>712321</td>\n",
       "    </tr>\n",
       "    <tr>\n",
       "      <th>3</th>\n",
       "      <td>GCA_001477655.1</td>\n",
       "      <td>1</td>\n",
       "      <td>539355</td>\n",
       "      <td>540829</td>\n",
       "    </tr>\n",
       "    <tr>\n",
       "      <th>4</th>\n",
       "      <td>GCA_001477655.1</td>\n",
       "      <td>2</td>\n",
       "      <td>785166</td>\n",
       "      <td>786640</td>\n",
       "    </tr>\n",
       "    <tr>\n",
       "      <th>5</th>\n",
       "      <td>GCA_001477655.1</td>\n",
       "      <td>3</td>\n",
       "      <td>2409376</td>\n",
       "      <td>2410248</td>\n",
       "    </tr>\n",
       "    <tr>\n",
       "      <th>6</th>\n",
       "      <td>GCA_003814835.1</td>\n",
       "      <td>1</td>\n",
       "      <td>482634</td>\n",
       "      <td>483506</td>\n",
       "    </tr>\n",
       "    <tr>\n",
       "      <th>7</th>\n",
       "      <td>GCA_003814835.1</td>\n",
       "      <td>2</td>\n",
       "      <td>728669</td>\n",
       "      <td>728892</td>\n",
       "    </tr>\n",
       "    <tr>\n",
       "      <th>8</th>\n",
       "      <td>GCA_003814835.1</td>\n",
       "      <td>3</td>\n",
       "      <td>84110</td>\n",
       "      <td>84196</td>\n",
       "    </tr>\n",
       "    <tr>\n",
       "      <th>9</th>\n",
       "      <td>GCA_003814835.1</td>\n",
       "      <td>4</td>\n",
       "      <td>2709</td>\n",
       "      <td>4059</td>\n",
       "    </tr>\n",
       "    <tr>\n",
       "      <th>10</th>\n",
       "      <td>GCA_000024185.1</td>\n",
       "      <td>1</td>\n",
       "      <td>280448</td>\n",
       "      <td>281344</td>\n",
       "    </tr>\n",
       "    <tr>\n",
       "      <th>11</th>\n",
       "      <td>GCA_000024185.1</td>\n",
       "      <td>2</td>\n",
       "      <td>760878</td>\n",
       "      <td>762351</td>\n",
       "    </tr>\n",
       "    <tr>\n",
       "      <th>12</th>\n",
       "      <td>GCA_000024185.1</td>\n",
       "      <td>3</td>\n",
       "      <td>2041888</td>\n",
       "      <td>2043361</td>\n",
       "    </tr>\n",
       "    <tr>\n",
       "      <th>13</th>\n",
       "      <td>GCA_001563245.1</td>\n",
       "      <td>1</td>\n",
       "      <td>274133</td>\n",
       "      <td>275611</td>\n",
       "    </tr>\n",
       "    <tr>\n",
       "      <th>14</th>\n",
       "      <td>GCA_001563245.1</td>\n",
       "      <td>2</td>\n",
       "      <td>1267464</td>\n",
       "      <td>1268942</td>\n",
       "    </tr>\n",
       "    <tr>\n",
       "      <th>15</th>\n",
       "      <td>GCA_001563245.1</td>\n",
       "      <td>3</td>\n",
       "      <td>1810480</td>\n",
       "      <td>1811382</td>\n",
       "    </tr>\n",
       "  </tbody>\n",
       "</table>\n",
       "</div>"
      ],
      "text/plain": [
       "   assembly_accession index    start     stop\n",
       "0     GCA_001548675.1     1   169708   170580\n",
       "1     GCA_001548675.1     2   492626   494101\n",
       "2     GCA_001548675.1     3   710846   712321\n",
       "3     GCA_001477655.1     1   539355   540829\n",
       "4     GCA_001477655.1     2   785166   786640\n",
       "5     GCA_001477655.1     3  2409376  2410248\n",
       "6     GCA_003814835.1     1   482634   483506\n",
       "7     GCA_003814835.1     2   728669   728892\n",
       "8     GCA_003814835.1     3    84110    84196\n",
       "9     GCA_003814835.1     4     2709     4059\n",
       "10    GCA_000024185.1     1   280448   281344\n",
       "11    GCA_000024185.1     2   760878   762351\n",
       "12    GCA_000024185.1     3  2041888  2043361\n",
       "13    GCA_001563245.1     1   274133   275611\n",
       "14    GCA_001563245.1     2  1267464  1268942\n",
       "15    GCA_001563245.1     3  1810480  1811382"
      ]
     },
     "execution_count": 29,
     "metadata": {},
     "output_type": "execute_result"
    }
   ],
   "source": [
    "import pandas as pd\n",
    "#get the start and stop of the given gene \n",
    "\n",
    "#create dataframe to store the output \n",
    "df = pd.DataFrame(columns=[\"assembly_accession\", \"index\", \"start\", \"stop\"])\n",
    "\n",
    "# iterate through the GFF files\n",
    "for path_name in gff_paths:\n",
    "    species = path_name[:15]  #keep species name from the path_name\n",
    "    gene_count = 0            #index to keep count of number of times gene shows up in one species\n",
    "    \n",
    "    with open(path_name, \"r\") as file:\n",
    "        for line in file:\n",
    "            if not line.startswith('#'):\n",
    "                fields = line.strip().split('\\t')\n",
    "#                 if fields[2] == \"gene\":\n",
    "                if \"16S\" in line and \"gene\" in line:   #specify desired gene\n",
    "                    start = int(fields[3])\n",
    "                    stop = int(fields[4])\n",
    "                    gene_count += 1\n",
    "\n",
    "                    new_row = pd.DataFrame({\"assembly_accession\": [species],\n",
    "                                            \"index\": [gene_count],\n",
    "                                            \"start\": [start],\n",
    "                                            \"stop\": [stop]})\n",
    "\n",
    "                    df = pd.concat([df, new_row], ignore_index=True)\n",
    "\n",
    "df"
   ]
  },
  {
   "cell_type": "code",
   "execution_count": 62,
   "id": "24924002",
   "metadata": {},
   "outputs": [
    {
     "data": {
      "text/html": [
       "<div>\n",
       "<style scoped>\n",
       "    .dataframe tbody tr th:only-of-type {\n",
       "        vertical-align: middle;\n",
       "    }\n",
       "\n",
       "    .dataframe tbody tr th {\n",
       "        vertical-align: top;\n",
       "    }\n",
       "\n",
       "    .dataframe thead th {\n",
       "        text-align: right;\n",
       "    }\n",
       "</style>\n",
       "<table border=\"1\" class=\"dataframe\">\n",
       "  <thead>\n",
       "    <tr style=\"text-align: right;\">\n",
       "      <th></th>\n",
       "      <th>assembly_accession</th>\n",
       "      <th>index</th>\n",
       "      <th>start</th>\n",
       "      <th>stop</th>\n",
       "      <th>organism_name</th>\n",
       "      <th>strain</th>\n",
       "    </tr>\n",
       "  </thead>\n",
       "  <tbody>\n",
       "    <tr>\n",
       "      <th>0</th>\n",
       "      <td>GCA_902762095.1</td>\n",
       "      <td>1</td>\n",
       "      <td>13119</td>\n",
       "      <td>14774</td>\n",
       "      <td>uncultured Methanobrevibacter</td>\n",
       "      <td>RUG10736</td>\n",
       "    </tr>\n",
       "    <tr>\n",
       "      <th>1</th>\n",
       "      <td>GCA_000953115.1</td>\n",
       "      <td>1</td>\n",
       "      <td>1073810</td>\n",
       "      <td>1075462</td>\n",
       "      <td>Methanobacterium formicicum</td>\n",
       "      <td>DSM1535</td>\n",
       "    </tr>\n",
       "    <tr>\n",
       "      <th>2</th>\n",
       "      <td>GCA_900095815.1</td>\n",
       "      <td>1</td>\n",
       "      <td>1411589</td>\n",
       "      <td>1413253</td>\n",
       "      <td>Methanothermobacter wolfeii</td>\n",
       "      <td>SIV6</td>\n",
       "    </tr>\n",
       "    <tr>\n",
       "      <th>3</th>\n",
       "      <td>GCA_902795935.1</td>\n",
       "      <td>1</td>\n",
       "      <td>2874</td>\n",
       "      <td>4529</td>\n",
       "      <td>uncultured Methanobrevibacter</td>\n",
       "      <td>RUG14110</td>\n",
       "    </tr>\n",
       "    <tr>\n",
       "      <th>4</th>\n",
       "      <td>GCA_000499765.1</td>\n",
       "      <td>1</td>\n",
       "      <td>1786063</td>\n",
       "      <td>1787715</td>\n",
       "      <td>Methanobacterium</td>\n",
       "      <td>MB1</td>\n",
       "    </tr>\n",
       "  </tbody>\n",
       "</table>\n",
       "</div>"
      ],
      "text/plain": [
       "  assembly_accession index    start     stop                  organism_name  \\\n",
       "0    GCA_902762095.1     1    13119    14774  uncultured Methanobrevibacter   \n",
       "1    GCA_000953115.1     1  1073810  1075462    Methanobacterium formicicum   \n",
       "2    GCA_900095815.1     1  1411589  1413253    Methanothermobacter wolfeii   \n",
       "3    GCA_902795935.1     1     2874     4529  uncultured Methanobrevibacter   \n",
       "4    GCA_000499765.1     1  1786063  1787715               Methanobacterium   \n",
       "\n",
       "     strain  \n",
       "0  RUG10736  \n",
       "1   DSM1535  \n",
       "2      SIV6  \n",
       "3  RUG14110  \n",
       "4       MB1  "
      ]
     },
     "execution_count": 62,
     "metadata": {},
     "output_type": "execute_result"
    }
   ],
   "source": [
    "#insert columns with organism and strain name\n",
    "species = pd.read_csv('/Users/gracedai/Downloads/both.csv')\n",
    "species = species[['assembly_accession', 'organism_name', 'strain']]\n",
    "df = pd.merge(df, species, left_on='assembly_accession', right_on='assembly_accession', how='left')\n",
    "df"
   ]
  },
  {
   "cell_type": "markdown",
   "id": "cb8bf9a0",
   "metadata": {},
   "source": [
    "# Gather gene sequences and put into database"
   ]
  },
  {
   "cell_type": "code",
   "execution_count": 6,
   "id": "f040986e",
   "metadata": {},
   "outputs": [],
   "source": [
    "#os.chdir(\"/Users/gracedai/Documents/asmg labs files/fna sequences\")"
   ]
  },
  {
   "cell_type": "code",
   "execution_count": 50,
   "id": "94e23059",
   "metadata": {},
   "outputs": [],
   "source": [
    "for root, dirs, files in os.walk(os.getcwd()):\n",
    "    for file in files:\n",
    "        if file.endswith(\".gz\"):\n",
    "            #os.remove(os.path.join(root, file))\n",
    "            gunzip(os.path.join(root, file))"
   ]
  },
  {
   "cell_type": "code",
   "execution_count": 12,
   "id": "3568c7a2",
   "metadata": {},
   "outputs": [
    {
     "data": {
      "text/plain": [
       "'/Users/gracedai/Documents/MethanogeneDB/MAGS'"
      ]
     },
     "execution_count": 12,
     "metadata": {},
     "output_type": "execute_result"
    }
   ],
   "source": [
    "os.getcwd()"
   ]
  },
  {
   "cell_type": "code",
   "execution_count": 63,
   "id": "b0cc37d2",
   "metadata": {},
   "outputs": [],
   "source": [
    "# Function to find fasta file in a folder and extract the gene sequence\n",
    "def get_sequence(folder_name, start, stop):\n",
    "    fasta_file = [file for file in os.listdir(folder_name) if file.endswith(\".fna\")]\n",
    "    if not fasta_file:\n",
    "        return None\n",
    "    fasta_path = os.path.join(folder_name, fasta_file[0])\n",
    "    with open(fasta_path, \"r\") as file:\n",
    "        lines = file.readlines()\n",
    "        sequence = \"\".join(line.strip() for line in lines[1:] if not line.startswith(\">\"))\n",
    "    return sequence[start-1:stop]"
   ]
  },
  {
   "cell_type": "code",
   "execution_count": 42,
   "id": "2ab5d043",
   "metadata": {},
   "outputs": [],
   "source": [
    "#test function\n",
    "# out = get_sequence(\"GCA_001563305.1\", 10, 20)\n",
    "# print(out)"
   ]
  },
  {
   "cell_type": "code",
   "execution_count": 64,
   "id": "bea2e142",
   "metadata": {},
   "outputs": [
    {
     "data": {
      "text/html": [
       "<div>\n",
       "<style scoped>\n",
       "    .dataframe tbody tr th:only-of-type {\n",
       "        vertical-align: middle;\n",
       "    }\n",
       "\n",
       "    .dataframe tbody tr th {\n",
       "        vertical-align: top;\n",
       "    }\n",
       "\n",
       "    .dataframe thead th {\n",
       "        text-align: right;\n",
       "    }\n",
       "</style>\n",
       "<table border=\"1\" class=\"dataframe\">\n",
       "  <thead>\n",
       "    <tr style=\"text-align: right;\">\n",
       "      <th></th>\n",
       "      <th>assembly_accession</th>\n",
       "      <th>index</th>\n",
       "      <th>start</th>\n",
       "      <th>stop</th>\n",
       "      <th>organism_name</th>\n",
       "      <th>strain</th>\n",
       "      <th>Sequence</th>\n",
       "    </tr>\n",
       "  </thead>\n",
       "  <tbody>\n",
       "    <tr>\n",
       "      <th>0</th>\n",
       "      <td>GCA_902762095.1</td>\n",
       "      <td>1</td>\n",
       "      <td>13119</td>\n",
       "      <td>14774</td>\n",
       "      <td>uncultured Methanobrevibacter</td>\n",
       "      <td>RUG10736</td>\n",
       "      <td>None</td>\n",
       "    </tr>\n",
       "    <tr>\n",
       "      <th>1</th>\n",
       "      <td>GCA_000953115.1</td>\n",
       "      <td>1</td>\n",
       "      <td>1073810</td>\n",
       "      <td>1075462</td>\n",
       "      <td>Methanobacterium formicicum</td>\n",
       "      <td>DSM1535</td>\n",
       "      <td>None</td>\n",
       "    </tr>\n",
       "    <tr>\n",
       "      <th>2</th>\n",
       "      <td>GCA_900095815.1</td>\n",
       "      <td>1</td>\n",
       "      <td>1411589</td>\n",
       "      <td>1413253</td>\n",
       "      <td>Methanothermobacter wolfeii</td>\n",
       "      <td>SIV6</td>\n",
       "      <td>TTATTTTCCAGCAGGTATGATGAGGTCCCTTTCTCCTTCCGGGATG...</td>\n",
       "    </tr>\n",
       "    <tr>\n",
       "      <th>3</th>\n",
       "      <td>GCA_902795935.1</td>\n",
       "      <td>1</td>\n",
       "      <td>2874</td>\n",
       "      <td>4529</td>\n",
       "      <td>uncultured Methanobrevibacter</td>\n",
       "      <td>RUG14110</td>\n",
       "      <td>TCTTAAAGTAACACCATTACCAATCAATCTTCTACCATCAGAACAT...</td>\n",
       "    </tr>\n",
       "    <tr>\n",
       "      <th>4</th>\n",
       "      <td>GCA_000499765.1</td>\n",
       "      <td>1</td>\n",
       "      <td>1786063</td>\n",
       "      <td>1787715</td>\n",
       "      <td>Methanobacterium</td>\n",
       "      <td>MB1</td>\n",
       "      <td>ATGAATAACGAAAAAAAGCTCTTCTTAAAAGCTTTACAAAACAAAT...</td>\n",
       "    </tr>\n",
       "  </tbody>\n",
       "</table>\n",
       "</div>"
      ],
      "text/plain": [
       "  assembly_accession index    start     stop                  organism_name  \\\n",
       "0    GCA_902762095.1     1    13119    14774  uncultured Methanobrevibacter   \n",
       "1    GCA_000953115.1     1  1073810  1075462    Methanobacterium formicicum   \n",
       "2    GCA_900095815.1     1  1411589  1413253    Methanothermobacter wolfeii   \n",
       "3    GCA_902795935.1     1     2874     4529  uncultured Methanobrevibacter   \n",
       "4    GCA_000499765.1     1  1786063  1787715               Methanobacterium   \n",
       "\n",
       "     strain                                           Sequence  \n",
       "0  RUG10736                                               None  \n",
       "1   DSM1535                                               None  \n",
       "2      SIV6  TTATTTTCCAGCAGGTATGATGAGGTCCCTTTCTCCTTCCGGGATG...  \n",
       "3  RUG14110  TCTTAAAGTAACACCATTACCAATCAATCTTCTACCATCAGAACAT...  \n",
       "4       MB1  ATGAATAACGAAAAAAAGCTCTTCTTAAAAGCTTTACAAAACAAAT...  "
      ]
     },
     "execution_count": 64,
     "metadata": {},
     "output_type": "execute_result"
    }
   ],
   "source": [
    "#get the fasta files and sequences, put them in a column and merge with previous df\n",
    "# store the gene sequences\n",
    "sequences = []\n",
    "\n",
    "for _, row in df.iterrows():\n",
    "    folder_name = row[\"assembly_accession\"]\n",
    "    #print(folder_name)\n",
    "    start, stop = row[\"start\"], row[\"stop\"]\n",
    "    sequence = get_sequence(folder_name, start, stop) #extract the gene sequence using function\n",
    "    sequences.append(sequence)\n",
    "\n",
    "# add column of sequences to existing dataframe\n",
    "df[\"Sequence\"] = sequences\n",
    "df"
   ]
  },
  {
   "cell_type": "code",
   "execution_count": 65,
   "id": "13c61a33",
   "metadata": {},
   "outputs": [
    {
     "data": {
      "text/html": [
       "<div>\n",
       "<style scoped>\n",
       "    .dataframe tbody tr th:only-of-type {\n",
       "        vertical-align: middle;\n",
       "    }\n",
       "\n",
       "    .dataframe tbody tr th {\n",
       "        vertical-align: top;\n",
       "    }\n",
       "\n",
       "    .dataframe thead th {\n",
       "        text-align: right;\n",
       "    }\n",
       "</style>\n",
       "<table border=\"1\" class=\"dataframe\">\n",
       "  <thead>\n",
       "    <tr style=\"text-align: right;\">\n",
       "      <th></th>\n",
       "      <th>assembly_accession</th>\n",
       "      <th>index</th>\n",
       "      <th>start</th>\n",
       "      <th>stop</th>\n",
       "      <th>organism_name</th>\n",
       "      <th>strain</th>\n",
       "      <th>Sequence</th>\n",
       "    </tr>\n",
       "  </thead>\n",
       "  <tbody>\n",
       "    <tr>\n",
       "      <th>4</th>\n",
       "      <td>GCA_000499765.1</td>\n",
       "      <td>1</td>\n",
       "      <td>1786063</td>\n",
       "      <td>1787715</td>\n",
       "      <td>Methanobacterium</td>\n",
       "      <td>MB1</td>\n",
       "      <td>ATGAATAACGAAAAAAAGCTCTTCTTAAAAGCTTTACAAAACAAAT...</td>\n",
       "    </tr>\n",
       "    <tr>\n",
       "      <th>1</th>\n",
       "      <td>GCA_000953115.1</td>\n",
       "      <td>1</td>\n",
       "      <td>1073810</td>\n",
       "      <td>1075462</td>\n",
       "      <td>Methanobacterium formicicum</td>\n",
       "      <td>DSM1535</td>\n",
       "      <td>None</td>\n",
       "    </tr>\n",
       "    <tr>\n",
       "      <th>2</th>\n",
       "      <td>GCA_900095815.1</td>\n",
       "      <td>1</td>\n",
       "      <td>1411589</td>\n",
       "      <td>1413253</td>\n",
       "      <td>Methanothermobacter wolfeii</td>\n",
       "      <td>SIV6</td>\n",
       "      <td>TTATTTTCCAGCAGGTATGATGAGGTCCCTTTCTCCTTCCGGGATG...</td>\n",
       "    </tr>\n",
       "    <tr>\n",
       "      <th>0</th>\n",
       "      <td>GCA_902762095.1</td>\n",
       "      <td>1</td>\n",
       "      <td>13119</td>\n",
       "      <td>14774</td>\n",
       "      <td>uncultured Methanobrevibacter</td>\n",
       "      <td>RUG10736</td>\n",
       "      <td>None</td>\n",
       "    </tr>\n",
       "    <tr>\n",
       "      <th>3</th>\n",
       "      <td>GCA_902795935.1</td>\n",
       "      <td>1</td>\n",
       "      <td>2874</td>\n",
       "      <td>4529</td>\n",
       "      <td>uncultured Methanobrevibacter</td>\n",
       "      <td>RUG14110</td>\n",
       "      <td>TCTTAAAGTAACACCATTACCAATCAATCTTCTACCATCAGAACAT...</td>\n",
       "    </tr>\n",
       "  </tbody>\n",
       "</table>\n",
       "</div>"
      ],
      "text/plain": [
       "  assembly_accession index    start     stop                  organism_name  \\\n",
       "4    GCA_000499765.1     1  1786063  1787715               Methanobacterium   \n",
       "1    GCA_000953115.1     1  1073810  1075462    Methanobacterium formicicum   \n",
       "2    GCA_900095815.1     1  1411589  1413253    Methanothermobacter wolfeii   \n",
       "0    GCA_902762095.1     1    13119    14774  uncultured Methanobrevibacter   \n",
       "3    GCA_902795935.1     1     2874     4529  uncultured Methanobrevibacter   \n",
       "\n",
       "     strain                                           Sequence  \n",
       "4       MB1  ATGAATAACGAAAAAAAGCTCTTCTTAAAAGCTTTACAAAACAAAT...  \n",
       "1   DSM1535                                               None  \n",
       "2      SIV6  TTATTTTCCAGCAGGTATGATGAGGTCCCTTTCTCCTTCCGGGATG...  \n",
       "0  RUG10736                                               None  \n",
       "3  RUG14110  TCTTAAAGTAACACCATTACCAATCAATCTTCTACCATCAGAACAT...  "
      ]
     },
     "execution_count": 65,
     "metadata": {},
     "output_type": "execute_result"
    }
   ],
   "source": [
    "df['organism_name'] = df['organism_name'].astype(str)\n",
    "df = df.rename(columns={'Isolate': 'strain'})\n",
    "df_sorted = df.sort_values('organism_name', ascending=True)\n",
    "df_sorted"
   ]
  },
  {
   "cell_type": "code",
   "execution_count": 67,
   "id": "cefb5125",
   "metadata": {},
   "outputs": [],
   "source": [
    "# export locally to a csv\n",
    "df_sorted.to_csv('mrtA_seq2.csv')"
   ]
  },
  {
   "cell_type": "markdown",
   "id": "d74169f9",
   "metadata": {},
   "source": [
    "# Output dataframes to a formatted fasta file "
   ]
  },
  {
   "cell_type": "code",
   "execution_count": 47,
   "id": "13586802",
   "metadata": {},
   "outputs": [],
   "source": [
    "#out_fasta should be \"name.fasta\" to ensure the output file is in fasta format\n",
    "def to_fasta(df, out_fasta):\n",
    "    df[\"organism_name\"] = df[\"organism_name\"].str.replace(\" \",\"-\")\n",
    "    df[\"strain\"] = df[\"strain\"].str.replace(\" \",\"-\")\n",
    "    with open(out_fasta, 'w') as file:\n",
    "        for _, row in df.iterrows():\n",
    "            header = f'>{row[\"assembly_accession\"]}|{row[\"organism_name\"]}|{row[\"strain\"]}|{row[\"index\"]}|{row[\"start\"]}|{row[\"stop\"]}'\n",
    "            sequence = row[\"Sequence\"]\n",
    "            file.write(f'{header}\\n{sequence}\\n')\n",
    "    file.close()"
   ]
  },
  {
   "cell_type": "code",
   "execution_count": 58,
   "id": "7c79cf0a",
   "metadata": {},
   "outputs": [],
   "source": [
    "#export to local fasta file\n",
    "to_fasta(df_sorted, \"mrtG_seqs2.fasta\")"
   ]
  },
  {
   "cell_type": "code",
   "execution_count": null,
   "id": "334a7b05",
   "metadata": {},
   "outputs": [],
   "source": []
  }
 ],
 "metadata": {
  "kernelspec": {
   "display_name": "Python 3 (ipykernel)",
   "language": "python",
   "name": "python3"
  },
  "language_info": {
   "codemirror_mode": {
    "name": "ipython",
    "version": 3
   },
   "file_extension": ".py",
   "mimetype": "text/x-python",
   "name": "python",
   "nbconvert_exporter": "python",
   "pygments_lexer": "ipython3",
   "version": "3.10.12"
  }
 },
 "nbformat": 4,
 "nbformat_minor": 5
}
